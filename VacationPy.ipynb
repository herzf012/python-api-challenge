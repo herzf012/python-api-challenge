{
 "cells": [
  {
   "cell_type": "markdown",
   "metadata": {},
   "source": [
    "# VacationPy\n",
    "----\n",
    "\n",
    "#### Note\n",
    "* Keep an eye on your API usage. Use https://developers.google.com/maps/reporting/gmp-reporting as reference for how to monitor your usage and billing.\n",
    "\n",
    "* Instructions have been included for each segment. You do not have to follow them exactly, but they are included to help you think through the steps."
   ]
  },
  {
   "cell_type": "code",
   "execution_count": 1,
   "metadata": {},
   "outputs": [],
   "source": [
    "# Dependencies and Setup\n",
    "import matplotlib.pyplot as plt\n",
    "import pandas as pd\n",
    "import numpy as np\n",
    "import requests\n",
    "import json\n",
    "import gmaps\n",
    "import os\n",
    "\n",
    "# Import API key\n",
    "from api_keys import g_key"
   ]
  },
  {
   "cell_type": "markdown",
   "metadata": {},
   "source": [
    "### Store Part I results into DataFrame\n",
    "* Load the csv exported in Part I to a DataFrame"
   ]
  },
  {
   "cell_type": "code",
   "execution_count": 2,
   "metadata": {},
   "outputs": [],
   "source": [
    "cities_df = pd.read_csv(\"output_data/cities.csv\")"
   ]
  },
  {
   "cell_type": "markdown",
   "metadata": {},
   "source": [
    "### Humidity Heatmap\n",
    "* Configure gmaps.\n",
    "* Use the Lat and Lng as locations and Humidity as the weight.\n",
    "* Add Heatmap layer to map."
   ]
  },
  {
   "cell_type": "code",
   "execution_count": 3,
   "metadata": {},
   "outputs": [],
   "source": [
    "gmaps.configure(api_key = g_key)"
   ]
  },
  {
   "cell_type": "code",
   "execution_count": 4,
   "metadata": {},
   "outputs": [],
   "source": [
    "locations = cities_df[[\"Lat\", \"Lng\"]]"
   ]
  },
  {
   "cell_type": "code",
   "execution_count": 5,
   "metadata": {},
   "outputs": [
    {
     "data": {
      "application/vnd.jupyter.widget-view+json": {
       "model_id": "e4427eb08b8e40b8ac9628c835dccd68",
       "version_major": 2,
       "version_minor": 0
      },
      "text/plain": [
       "Figure(layout=FigureLayout(border='1px solid black', height='600px', margin='0 auto 0 auto', padding='1px', wi…"
      ]
     },
     "metadata": {},
     "output_type": "display_data"
    }
   ],
   "source": [
    "figure_layout = {\n",
    "    'width': '800px',\n",
    "    'height': '600px',\n",
    "    'border': '1px solid black',\n",
    "    'padding': '1px',\n",
    "    'margin': '0 auto 0 auto'\n",
    "}\n",
    "\n",
    "fig = gmaps.figure(layout=figure_layout)\n",
    "\n",
    "heat_layer = gmaps.heatmap_layer(locations, weights = cities_df[\"Humidity\"],\n",
    "                                dissipating = False, max_intensity= 100,\n",
    "                                point_radius = 2.5)\n",
    "\n",
    "fig.add_layer(heat_layer)\n",
    "\n",
    "fig"
   ]
  },
  {
   "cell_type": "markdown",
   "metadata": {},
   "source": [
    "### Create new DataFrame fitting weather criteria\n",
    "* Narrow down the cities to fit weather conditions.\n",
    "* Drop any rows will null values."
   ]
  },
  {
   "cell_type": "code",
   "execution_count": 6,
   "metadata": {},
   "outputs": [
    {
     "data": {
      "text/html": [
       "<div>\n",
       "<style scoped>\n",
       "    .dataframe tbody tr th:only-of-type {\n",
       "        vertical-align: middle;\n",
       "    }\n",
       "\n",
       "    .dataframe tbody tr th {\n",
       "        vertical-align: top;\n",
       "    }\n",
       "\n",
       "    .dataframe thead th {\n",
       "        text-align: right;\n",
       "    }\n",
       "</style>\n",
       "<table border=\"1\" class=\"dataframe\">\n",
       "  <thead>\n",
       "    <tr style=\"text-align: right;\">\n",
       "      <th></th>\n",
       "      <th>City</th>\n",
       "      <th>Lat</th>\n",
       "      <th>Lng</th>\n",
       "      <th>Max Temp</th>\n",
       "      <th>Humidity</th>\n",
       "      <th>Cloudiness</th>\n",
       "      <th>Wind Speed</th>\n",
       "      <th>Country</th>\n",
       "      <th>Date</th>\n",
       "    </tr>\n",
       "  </thead>\n",
       "  <tbody>\n",
       "    <tr>\n",
       "      <th>49</th>\n",
       "      <td>Hamilton</td>\n",
       "      <td>39.1834</td>\n",
       "      <td>-84.5333</td>\n",
       "      <td>77.00</td>\n",
       "      <td>63</td>\n",
       "      <td>0</td>\n",
       "      <td>1.01</td>\n",
       "      <td>US</td>\n",
       "      <td>1660436582</td>\n",
       "    </tr>\n",
       "    <tr>\n",
       "      <th>88</th>\n",
       "      <td>Fairbanks</td>\n",
       "      <td>64.8378</td>\n",
       "      <td>-147.7164</td>\n",
       "      <td>75.09</td>\n",
       "      <td>58</td>\n",
       "      <td>0</td>\n",
       "      <td>3.44</td>\n",
       "      <td>US</td>\n",
       "      <td>1660436713</td>\n",
       "    </tr>\n",
       "    <tr>\n",
       "      <th>307</th>\n",
       "      <td>Westport</td>\n",
       "      <td>41.1415</td>\n",
       "      <td>-73.3579</td>\n",
       "      <td>74.75</td>\n",
       "      <td>58</td>\n",
       "      <td>0</td>\n",
       "      <td>3.44</td>\n",
       "      <td>US</td>\n",
       "      <td>1660436965</td>\n",
       "    </tr>\n",
       "    <tr>\n",
       "      <th>377</th>\n",
       "      <td>Mastic Beach</td>\n",
       "      <td>40.7668</td>\n",
       "      <td>-72.8521</td>\n",
       "      <td>73.98</td>\n",
       "      <td>59</td>\n",
       "      <td>0</td>\n",
       "      <td>3.44</td>\n",
       "      <td>US</td>\n",
       "      <td>1660437142</td>\n",
       "    </tr>\n",
       "    <tr>\n",
       "      <th>426</th>\n",
       "      <td>Palaia Fokaia</td>\n",
       "      <td>37.7200</td>\n",
       "      <td>23.9463</td>\n",
       "      <td>79.75</td>\n",
       "      <td>64</td>\n",
       "      <td>0</td>\n",
       "      <td>4.90</td>\n",
       "      <td>GR</td>\n",
       "      <td>1660437214</td>\n",
       "    </tr>\n",
       "    <tr>\n",
       "      <th>441</th>\n",
       "      <td>Shihezi</td>\n",
       "      <td>44.3000</td>\n",
       "      <td>86.0333</td>\n",
       "      <td>78.58</td>\n",
       "      <td>30</td>\n",
       "      <td>0</td>\n",
       "      <td>1.79</td>\n",
       "      <td>CN</td>\n",
       "      <td>1660437236</td>\n",
       "    </tr>\n",
       "    <tr>\n",
       "      <th>536</th>\n",
       "      <td>Olhão</td>\n",
       "      <td>37.0286</td>\n",
       "      <td>-7.8411</td>\n",
       "      <td>72.28</td>\n",
       "      <td>59</td>\n",
       "      <td>0</td>\n",
       "      <td>3.44</td>\n",
       "      <td>PT</td>\n",
       "      <td>1660437376</td>\n",
       "    </tr>\n",
       "  </tbody>\n",
       "</table>\n",
       "</div>"
      ],
      "text/plain": [
       "              City      Lat       Lng  Max Temp  Humidity  Cloudiness  \\\n",
       "49        Hamilton  39.1834  -84.5333     77.00        63           0   \n",
       "88       Fairbanks  64.8378 -147.7164     75.09        58           0   \n",
       "307       Westport  41.1415  -73.3579     74.75        58           0   \n",
       "377   Mastic Beach  40.7668  -72.8521     73.98        59           0   \n",
       "426  Palaia Fokaia  37.7200   23.9463     79.75        64           0   \n",
       "441        Shihezi  44.3000   86.0333     78.58        30           0   \n",
       "536          Olhão  37.0286   -7.8411     72.28        59           0   \n",
       "\n",
       "     Wind Speed Country        Date  \n",
       "49         1.01      US  1660436582  \n",
       "88         3.44      US  1660436713  \n",
       "307        3.44      US  1660436965  \n",
       "377        3.44      US  1660437142  \n",
       "426        4.90      GR  1660437214  \n",
       "441        1.79      CN  1660437236  \n",
       "536        3.44      PT  1660437376  "
      ]
     },
     "execution_count": 6,
     "metadata": {},
     "output_type": "execute_result"
    }
   ],
   "source": [
    "# Using the example suggestions for ideal weather conditions\n",
    "\n",
    "# A max temperature lower than 80 degrees but higher than 70\n",
    "\n",
    "ideal_cities_df = cities_df[(cities_df[\"Max Temp\"] > 70) & (cities_df[\"Max Temp\"] < 80)]\n",
    "\n",
    "# Wind speed less than 10 mph\n",
    "\n",
    "ideal_cities_df = ideal_cities_df[(ideal_cities_df[\"Wind Speed\"] < 5)]\n",
    "\n",
    "# Zero cloudiness less than 10%\n",
    "\n",
    "ideal_cities_df = ideal_cities_df[(ideal_cities_df[\"Cloudiness\"] == 0)]\n",
    "ideal_cities_df"
   ]
  },
  {
   "cell_type": "markdown",
   "metadata": {},
   "source": [
    "### Hotel Map\n",
    "* Store into variable named `hotel_df`.\n",
    "* Add a \"Hotel Name\" column to the DataFrame.\n",
    "* Set parameters to search for hotels with 5000 meters.\n",
    "* Hit the Google Places API for each city's coordinates.\n",
    "* Store the first Hotel result into the DataFrame.\n",
    "* Plot markers on top of the heatmap."
   ]
  },
  {
   "cell_type": "code",
   "execution_count": 7,
   "metadata": {},
   "outputs": [],
   "source": [
    "hotel_dict = {\n",
    "    \"Hotel Name\" : [],\n",
    "    \"City\" : [],\n",
    "    \"Country\" : [],\n",
    "    \"Lat\" : [],\n",
    "    \"Lng\" : []\n",
    "}"
   ]
  },
  {
   "cell_type": "code",
   "execution_count": 8,
   "metadata": {},
   "outputs": [],
   "source": [
    "base_url = \"https://maps.googleapis.com/maps/api/place/nearbysearch/json\"\n",
    "\n",
    "target_search = \"Hotel\"\n",
    "\n",
    "target_radius = 5000\n",
    "\n",
    "target_type = \"hotel\""
   ]
  },
  {
   "cell_type": "code",
   "execution_count": 9,
   "metadata": {},
   "outputs": [],
   "source": [
    "i = 0\n",
    "while i < len(ideal_cities_df):\n",
    "    \n",
    "    target_coordinates = f\"{ideal_cities_df.iloc[i]['Lat']}, {ideal_cities_df.iloc[i]['Lng']}\"\n",
    "\n",
    "    parameters = {\n",
    "        \"location\" : target_coordinates,\n",
    "        \"keyword\": target_search,\n",
    "        \"radius\" : target_radius,\n",
    "        \"type\" : target_type,\n",
    "        \"key\" : g_key\n",
    "    }\n",
    "    \n",
    "    try:\n",
    "        \n",
    "        response = requests.get(base_url, params = parameters)\n",
    "        \n",
    "        hotel_data = response.json()\n",
    "        \n",
    "        hotel_dict[\"Hotel Name\"].append(hotel_data[\"results\"][0][\"name\"])\n",
    "        hotel_dict[\"Lat\"].append(hotel_data[\"results\"][0][\"geometry\"][\"location\"][\"lat\"])\n",
    "        hotel_dict[\"Lng\"].append(hotel_data[\"results\"][0][\"geometry\"][\"location\"][\"lng\"])\n",
    "        hotel_dict[\"City\"].append(ideal_cities_df.iloc[i][\"City\"])\n",
    "        hotel_dict[\"Country\"].append(ideal_cities_df.iloc[i][\"Country\"])\n",
    "        \n",
    "    except:\n",
    "        \n",
    "        print(f\"No hotels found within {target_radius}m of {ideal_cities_df.iloc[i]['City']}...\")\n",
    "    \n",
    "    i += 1"
   ]
  },
  {
   "cell_type": "code",
   "execution_count": 10,
   "metadata": {},
   "outputs": [
    {
     "data": {
      "text/html": [
       "<div>\n",
       "<style scoped>\n",
       "    .dataframe tbody tr th:only-of-type {\n",
       "        vertical-align: middle;\n",
       "    }\n",
       "\n",
       "    .dataframe tbody tr th {\n",
       "        vertical-align: top;\n",
       "    }\n",
       "\n",
       "    .dataframe thead th {\n",
       "        text-align: right;\n",
       "    }\n",
       "</style>\n",
       "<table border=\"1\" class=\"dataframe\">\n",
       "  <thead>\n",
       "    <tr style=\"text-align: right;\">\n",
       "      <th></th>\n",
       "      <th>Hotel Name</th>\n",
       "      <th>City</th>\n",
       "      <th>Country</th>\n",
       "      <th>Lat</th>\n",
       "      <th>Lng</th>\n",
       "    </tr>\n",
       "  </thead>\n",
       "  <tbody>\n",
       "    <tr>\n",
       "      <th>0</th>\n",
       "      <td>Graduate Cincinnati</td>\n",
       "      <td>Hamilton</td>\n",
       "      <td>US</td>\n",
       "      <td>39.136690</td>\n",
       "      <td>-84.507522</td>\n",
       "    </tr>\n",
       "    <tr>\n",
       "      <th>1</th>\n",
       "      <td>SpringHill Suites by Marriott Fairbanks</td>\n",
       "      <td>Fairbanks</td>\n",
       "      <td>US</td>\n",
       "      <td>64.843613</td>\n",
       "      <td>-147.720575</td>\n",
       "    </tr>\n",
       "    <tr>\n",
       "      <th>2</th>\n",
       "      <td>Residence Inn by Marriott Norwalk</td>\n",
       "      <td>Westport</td>\n",
       "      <td>US</td>\n",
       "      <td>41.097896</td>\n",
       "      <td>-73.419226</td>\n",
       "    </tr>\n",
       "    <tr>\n",
       "      <th>3</th>\n",
       "      <td>Smith Point Motel</td>\n",
       "      <td>Mastic Beach</td>\n",
       "      <td>US</td>\n",
       "      <td>40.751449</td>\n",
       "      <td>-72.871015</td>\n",
       "    </tr>\n",
       "    <tr>\n",
       "      <th>4</th>\n",
       "      <td>Plaza Resort Hotel</td>\n",
       "      <td>Palaia Fokaia</td>\n",
       "      <td>GR</td>\n",
       "      <td>37.723835</td>\n",
       "      <td>23.944509</td>\n",
       "    </tr>\n",
       "    <tr>\n",
       "      <th>5</th>\n",
       "      <td>Shihezi Binle Hotel</td>\n",
       "      <td>Shihezi</td>\n",
       "      <td>CN</td>\n",
       "      <td>44.321120</td>\n",
       "      <td>86.045876</td>\n",
       "    </tr>\n",
       "    <tr>\n",
       "      <th>6</th>\n",
       "      <td>Pure Formosa Concept Hotel</td>\n",
       "      <td>Olhão</td>\n",
       "      <td>PT</td>\n",
       "      <td>37.027356</td>\n",
       "      <td>-7.839671</td>\n",
       "    </tr>\n",
       "  </tbody>\n",
       "</table>\n",
       "</div>"
      ],
      "text/plain": [
       "                                Hotel Name           City Country        Lat  \\\n",
       "0                      Graduate Cincinnati       Hamilton      US  39.136690   \n",
       "1  SpringHill Suites by Marriott Fairbanks      Fairbanks      US  64.843613   \n",
       "2        Residence Inn by Marriott Norwalk       Westport      US  41.097896   \n",
       "3                        Smith Point Motel   Mastic Beach      US  40.751449   \n",
       "4                       Plaza Resort Hotel  Palaia Fokaia      GR  37.723835   \n",
       "5                      Shihezi Binle Hotel        Shihezi      CN  44.321120   \n",
       "6               Pure Formosa Concept Hotel          Olhão      PT  37.027356   \n",
       "\n",
       "          Lng  \n",
       "0  -84.507522  \n",
       "1 -147.720575  \n",
       "2  -73.419226  \n",
       "3  -72.871015  \n",
       "4   23.944509  \n",
       "5   86.045876  \n",
       "6   -7.839671  "
      ]
     },
     "execution_count": 10,
     "metadata": {},
     "output_type": "execute_result"
    }
   ],
   "source": [
    "hotel_df = pd.DataFrame(hotel_dict)\n",
    "hotel_df"
   ]
  },
  {
   "cell_type": "code",
   "execution_count": 11,
   "metadata": {},
   "outputs": [],
   "source": [
    "# NOTE: Do not change any of the code in this cell\n",
    "\n",
    "# Using the template add the hotel marks to the heatmap\n",
    "info_box_template = \"\"\"\n",
    "<dl>\n",
    "<dt>Name</dt><dd>{Hotel Name}</dd>\n",
    "<dt>City</dt><dd>{City}</dd>\n",
    "<dt>Country</dt><dd>{Country}</dd>\n",
    "</dl>\n",
    "\"\"\"\n",
    "# Store the DataFrame Row\n",
    "# NOTE: be sure to update with your DataFrame name\n",
    "hotel_info = [info_box_template.format(**row) for index, row in hotel_df.iterrows()]\n",
    "locations = hotel_df[[\"Lat\", \"Lng\"]]"
   ]
  },
  {
   "cell_type": "code",
   "execution_count": 12,
   "metadata": {},
   "outputs": [
    {
     "data": {
      "application/vnd.jupyter.widget-view+json": {
       "model_id": "e4427eb08b8e40b8ac9628c835dccd68",
       "version_major": 2,
       "version_minor": 0
      },
      "text/plain": [
       "Figure(layout=FigureLayout(border='1px solid black', height='600px', margin='0 auto 0 auto', padding='1px', wi…"
      ]
     },
     "metadata": {},
     "output_type": "display_data"
    }
   ],
   "source": [
    "# Add marker layer ontop of heat map\n",
    "markers = gmaps.marker_layer(locations,\n",
    "                            info_box_content = hotel_info)\n",
    "\n",
    "fig.add_layer(markers)\n",
    "\n",
    "# Display figure\n",
    "\n",
    "fig"
   ]
  },
  {
   "cell_type": "code",
   "execution_count": null,
   "metadata": {},
   "outputs": [],
   "source": []
  }
 ],
 "metadata": {
  "kernelspec": {
   "display_name": "PythonData38",
   "language": "python",
   "name": "pythondata38"
  },
  "language_info": {
   "codemirror_mode": {
    "name": "ipython",
    "version": 3
   },
   "file_extension": ".py",
   "mimetype": "text/x-python",
   "name": "python",
   "nbconvert_exporter": "python",
   "pygments_lexer": "ipython3",
   "version": "3.9.12"
  },
  "latex_envs": {
   "LaTeX_envs_menu_present": true,
   "autoclose": false,
   "autocomplete": true,
   "bibliofile": "biblio.bib",
   "cite_by": "apalike",
   "current_citInitial": 1,
   "eqLabelWithNumbers": true,
   "eqNumInitial": 1,
   "hotkeys": {
    "equation": "Ctrl-E",
    "itemize": "Ctrl-I"
   },
   "labels_anchors": false,
   "latex_user_defs": false,
   "report_style_numbering": false,
   "user_envs_cfg": false
  }
 },
 "nbformat": 4,
 "nbformat_minor": 4
}
